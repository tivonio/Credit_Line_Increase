{
  "nbformat": 4,
  "nbformat_minor": 0,
  "metadata": {
    "colab": {
      "name": "Credit_Line_Increase.ipynb",
      "provenance": [],
      "authorship_tag": "ABX9TyMkLBW15YK5EQ76ddnDRNrz",
      "include_colab_link": true
    },
    "kernelspec": {
      "name": "python3",
      "display_name": "Python 3"
    },
    "language_info": {
      "name": "python"
    }
  },
  "cells": [
    {
      "cell_type": "markdown",
      "metadata": {
        "id": "view-in-github",
        "colab_type": "text"
      },
      "source": [
        "<a href=\"https://colab.research.google.com/github/tivonj/Credit_Line_Increase/blob/main/Credit_Line_Increase.ipynb\" target=\"_parent\"><img src=\"https://colab.research.google.com/assets/colab-badge.svg\" alt=\"Open In Colab\"/></a>"
      ]
    },
    {
      "cell_type": "code",
      "metadata": {
        "id": "97CKvC-IkMxf"
      },
      "source": [
        "from sklearn import tree                             # sklearn tree model for decision trees\n",
        "from sklearn.model_selection import train_test_split # for partitioning data\n",
        "from sklearn.model_selection import cross_val_score  # for cross validation\n",
        "from sklearn.metrics import roc_auc_score            # to asses decision tree perforamce\n",
        "\n",
        "# to upload local files\n",
        "import io\n",
        "from google.colab import files             \n",
        "\n",
        "import numpy as np                                   # array, vector, matrix calculations\n",
        "import pandas as pd                                  # dataFrame handling\n",
        "\n",
        "from matplotlib import pyplot as plt                 # plotting\n",
        "import seaborn as sns                                # slightly better plotting  \n",
        "\n",
        "SEED = 12345                                         # ALWAYS use a random seed for better reproducibility"
      ],
      "execution_count": 1,
      "outputs": []
    }
  ]
}